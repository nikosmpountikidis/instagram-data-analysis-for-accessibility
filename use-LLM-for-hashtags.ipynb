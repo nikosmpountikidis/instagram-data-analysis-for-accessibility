{
  "nbformat": 4,
  "nbformat_minor": 0,
  "metadata": {
    "colab": {
      "provenance": [],
      "machine_shape": "hm",
      "gpuType": "T4"
    },
    "kernelspec": {
      "name": "python3",
      "display_name": "Python 3"
    },
    "language_info": {
      "name": "python"
    },
    "accelerator": "GPU"
  },
  "cells": [
    {
      "cell_type": "markdown",
      "source": [
        "* This Notebook describes how to use the trained model to check which hashtags are accessible and which are not.\n",
        "\n",
        "* At the end it computes the overall percentage of which hashtags are accessible and which not."
      ],
      "metadata": {
        "id": "qLMEPogkFQUV"
      }
    },
    {
      "cell_type": "code",
      "execution_count": null,
      "metadata": {
        "id": "PWBUxnHbEj9L"
      },
      "outputs": [],
      "source": [
        "from transformers import AutoTokenizer, AutoModelForSequenceClassification, pipeline\n",
        "from transformers import BertForSequenceClassification, BertTokenizer\n",
        "import torch\n",
        "import pandas as pd\n",
        "from collections import Counter\n",
        "import ast\n",
        "from transformers import pipeline"
      ]
    },
    {
      "cell_type": "code",
      "source": [
        "# Upload in Google Colab the files that were saved in the training of the model\n",
        "# and save them inside a new folder, so that you can use its path\n",
        "\n",
        "model = BertForSequenceClassification.from_pretrained(\"path to the folder\")\n",
        "tokenizer = BertTokenizer.from_pretrained(\"path to the folder\")\n",
        "\n",
        "# Send model to GPU if available\n",
        "device = torch.device(\"cuda\" if torch.cuda.is_available() else \"cpu\")\n",
        "model.to(device)\n",
        "\n",
        "# Create a prediction pipeline\n",
        "classifier = pipeline(\n",
        "    \"text-classification\",\n",
        "    model=model,\n",
        "    tokenizer=tokenizer,\n",
        "    device=0 if torch.cuda.is_available() else -1\n",
        ")"
      ],
      "metadata": {
        "id": "eP-Dc5igJTYD"
      },
      "execution_count": null,
      "outputs": []
    },
    {
      "cell_type": "code",
      "source": [
        "# Code to check just some examples by hand\n",
        "label_map = {\"LABEL_0\": \"Inaccessible\", \"LABEL_1\": \"Accessible\"}\n",
        "\n",
        "hashtags = [\n",
        "    \"#ThisIsAccessible\",\n",
        "    \"#thisisnotaccessible\",\n",
        "    \"#Καλοκαίρι2024\",\n",
        "    \"#καλοκαιρι\",\n",
        "    \"#καλοκαίρινησί\",\n",
        "    \"#ΚαλοκαίριΝησί\"\n",
        "]\n",
        "\n",
        "for tag in hashtags:\n",
        "    result = classifier(tag)[0]\n",
        "    print(f\"{tag:30} → {label_map[result['label']]} ({result['score']:.2f})\")"
      ],
      "metadata": {
        "id": "fYFMz11dJX12"
      },
      "execution_count": null,
      "outputs": []
    },
    {
      "cell_type": "code",
      "source": [
        "# Code to check from a CSV file\n",
        "df = pd.read_csv(\"the CSV file\")\n",
        "\n",
        "# Map model labels to human-readable form\n",
        "label_map = {\"LABEL_0\": \"Inaccessible\", \"LABEL_1\": \"Accessible\"}\n",
        "\n",
        "all_hashtags = []\n",
        "classification_results = []\n",
        "\n",
        "# Parse hashtags from column\n",
        "for row in df[\"hashtags\"].dropna():\n",
        "    try:\n",
        "        parsed = ast.literal_eval(row)\n",
        "        if isinstance(parsed, list):\n",
        "            all_hashtags.extend(parsed)\n",
        "    except Exception as e:\n",
        "        print(f\"Skipping row due to error: {e}\")\n",
        "\n",
        "# Classify and store results\n",
        "for tag in all_hashtags:\n",
        "    result = classifier(tag)[0]\n",
        "    label = label_map[result[\"label\"]]\n",
        "    classification_results.append(label)\n",
        "\n",
        "# Count and calculate percentages\n",
        "counts = Counter(classification_results)\n",
        "total = sum(counts.values())\n",
        "print(\"\\n--- Summary ---\")\n",
        "for label in [\"Accessible\", \"Inaccessible\"]:\n",
        "    count = counts[label]\n",
        "    percent = 100 * count / total if total else 0\n",
        "    print(f\"{label}: {count} ({percent:.2f}%)\")"
      ],
      "metadata": {
        "id": "Ebr9bwOFHfH-"
      },
      "execution_count": null,
      "outputs": []
    }
  ]
}