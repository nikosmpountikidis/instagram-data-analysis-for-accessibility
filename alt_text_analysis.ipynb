{
  "cells": [
    {
      "cell_type": "markdown",
      "source": [
        "In this Notebook we analyze if the Alt Text (Alternative Text) of an Instagram post is:\n",
        "* Empty\n",
        "* AI-Generated\n",
        "* Custom made\n",
        "\n",
        "The use of the Alt Text is crucial for those who use a screen reader. It describes what a photo depicts, to blind people or people with visual impairments.\n"
      ],
      "metadata": {
        "id": "cpVOiyPuBGfY"
      }
    },
    {
      "cell_type": "code",
      "source": [
        "import pandas as pd\n",
        "import numpy as np"
      ],
      "metadata": {
        "id": "zq9_V0aeLV4G"
      },
      "execution_count": null,
      "outputs": []
    },
    {
      "cell_type": "code",
      "execution_count": null,
      "metadata": {
        "id": "BX1f2tkS_4MS"
      },
      "outputs": [],
      "source": [
        "# Load the CSV with the data\n",
        "\n",
        "data = pd.read_csv(\"the csv file\")\n",
        "data"
      ]
    },
    {
      "cell_type": "code",
      "source": [
        "data.info()"
      ],
      "metadata": {
        "id": "vkpZesExuoRj"
      },
      "execution_count": null,
      "outputs": []
    },
    {
      "cell_type": "code",
      "source": [
        "data.columns"
      ],
      "metadata": {
        "id": "DKg97qVMhvI6"
      },
      "execution_count": null,
      "outputs": []
    },
    {
      "cell_type": "code",
      "source": [
        "# Check the columns of the user and the alt text\n",
        "\n",
        "data[['alt_text','user_posted']]"
      ],
      "metadata": {
        "id": "PlUyVrqotRTH"
      },
      "execution_count": null,
      "outputs": []
    },
    {
      "cell_type": "code",
      "execution_count": null,
      "metadata": {
        "id": "Coiw2rfOQR4F"
      },
      "outputs": [],
      "source": [
        "# Change the NaN values of the alt_text to \"Not present\"\n",
        "\n",
        "data['alt_text'].replace(np.nan, 'Not present', inplace=True)"
      ]
    },
    {
      "cell_type": "code",
      "execution_count": null,
      "metadata": {
        "id": "H35ykSHBRVwO"
      },
      "outputs": [],
      "source": [
        "# Check if \"Not Present\" has replaced the NaN values\n",
        "\n",
        "data[['alt_text','user_posted']]"
      ]
    },
    {
      "cell_type": "code",
      "execution_count": null,
      "metadata": {
        "id": "CbDX4gIzZiUE"
      },
      "outputs": [],
      "source": [
        "# Check how many different content types exist\n",
        "\n",
        "data['content_type'].unique()"
      ]
    },
    {
      "cell_type": "code",
      "source": [
        "# Find which carousels do not include any photo and save them in a list\n",
        "\n",
        "carousel_without_photo_list = []\n",
        "for id, _ in data.iterrows():\n",
        "  if data['content_type'][id] == 'Carousel':\n",
        "    if 'Photo' not in data['post_content'][id]:\n",
        "      carousel_without_photo_list.append(id)\n",
        "print(carousel_without_photo_list)"
      ],
      "metadata": {
        "id": "amOkCxNYpSxz"
      },
      "execution_count": null,
      "outputs": []
    },
    {
      "cell_type": "code",
      "execution_count": null,
      "metadata": {
        "id": "HM9wbWiTPYyS"
      },
      "outputs": [],
      "source": [
        "# Find which of the alt texts are empty, auto-generated or filled\n",
        "# by the user, depanding on the category of the content type\n",
        "\n",
        "video = 0\n",
        "video_empty = 0\n",
        "video_ai = 0\n",
        "carousel = 0\n",
        "carousel_empty = 0\n",
        "carousel_ai = 0\n",
        "reel = 0\n",
        "reel_empty = 0\n",
        "reel_ai = 0\n",
        "image = 0\n",
        "image_empty = 0\n",
        "image_ai = 0\n",
        "carousel_without_photo = 0\n",
        "carousel_without_photo_empty = 0\n",
        "carousel_without_photo_ai = 0\n",
        "for id, _ in data.iterrows():\n",
        "  if data['content_type'][id] == 'Video':\n",
        "    video += 1\n",
        "    if data['alt_text'][id] == 'Not present':\n",
        "      video_empty += 1\n",
        "    elif 'May be' in data['alt_text'][id]:\n",
        "      video_ai += 1\n",
        "  elif data['content_type'][id] == 'Carousel' and id not in carousel_without_photo_list:\n",
        "    carousel += 1\n",
        "    if data['alt_text'][id] == 'Not present':\n",
        "      carousel_empty += 1\n",
        "    elif 'May be' in data['alt_text'][id]:\n",
        "      carousel_ai += 1\n",
        "  elif data['content_type'][id] == 'Carousel' and id in carousel_without_photo_list:\n",
        "    carousel_without_photo += 1\n",
        "    if data['alt_text'][id] == 'Not present':\n",
        "      carousel_without_photo_empty += 1\n",
        "    elif 'May be' in data['alt_text'][id]:\n",
        "      carousel_without_photo_ai += 1\n",
        "  elif data['content_type'][id] == 'Reel':\n",
        "    reel += 1\n",
        "    if data['alt_text'][id] == 'Not present':\n",
        "      reel_empty += 1\n",
        "    elif 'May be' in data['alt_text'][id]:\n",
        "      reel_ai += 1\n",
        "  elif data['content_type'][id] == 'Image':\n",
        "    image += 1\n",
        "    if data['alt_text'][id] == 'Not present':\n",
        "      image_empty += 1\n",
        "    elif 'May be' in data['alt_text'][id]:\n",
        "      image_ai += 1\n",
        "\n",
        "print(f'There are {image} images, while {image_empty} of them are empty, \\\n",
        "{image_ai} of them are auto-generated and {image-image_ai-image_empty} are custom-made')\n",
        "print(f'There are {carousel} carousels with photo(s), while {carousel_empty} of \\\n",
        "them are empty, {carousel_ai} of them are auto-generated and \\\n",
        "{carousel-carousel_ai-carousel_empty} are custom-made')\n",
        "print(f'There are {carousel_without_photo} carousels without photo(s), while \\\n",
        "{carousel_without_photo_empty} of them are empty, {carousel_without_photo_ai} \\\n",
        "of them are auto-generated and \\\n",
        "{carousel_without_photo-carousel_without_photo_ai-carousel_without_photo_empty} are custom-made')\n",
        "print(f'There are {reel} reels, while {reel_empty} of them are empty, \\\n",
        "{reel_ai} of them are auto-generated and {reel-reel_ai-reel_empty} are custom-made')\n",
        "print(f'There are {video} videos, while {video_empty} of them are empty, \\\n",
        "{video_ai} of them are auto-generated and {video-video_ai-video_empty} are custom-made')\n",
        "\n"
      ]
    }
  ],
  "metadata": {
    "colab": {
      "provenance": []
    },
    "kernelspec": {
      "display_name": "Python 3",
      "name": "python3"
    },
    "language_info": {
      "name": "python"
    }
  },
  "nbformat": 4,
  "nbformat_minor": 0
}
