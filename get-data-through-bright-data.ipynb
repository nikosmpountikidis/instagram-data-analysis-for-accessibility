{
  "nbformat": 4,
  "nbformat_minor": 0,
  "metadata": {
    "colab": {
      "provenance": []
    },
    "kernelspec": {
      "name": "python3",
      "display_name": "Python 3"
    },
    "language_info": {
      "name": "python"
    }
  },
  "cells": [
    {
      "cell_type": "code",
      "source": [
        "import requests\n",
        "import pandas as pd"
      ],
      "metadata": {
        "id": "cvxpCBENhr-R"
      },
      "execution_count": null,
      "outputs": []
    },
    {
      "cell_type": "code",
      "source": [
        "# Create a post request that will trigger the API to start scraping data from\n",
        "# the profiles that are inside the uploaded CSV. The API-token will be found\n",
        "# trhough the account on the website\n",
        "\n",
        "url = \"https://api.brightdata.com/datasets/v3/trigger\"\n",
        "headers = {\n",
        "\t\"Authorization\": \"Bearer API-token\",\n",
        "}\n",
        "params = {\n",
        "\t\"dataset_id\": \"gd_lk5ns7kz21pck8jpis\",\n",
        "\t\"include_errors\": \"false\",\n",
        "\t\"type\": \"discover_new\",\n",
        "\t\"discover_by\": \"url\",\n",
        "}\n",
        "# Create a csv file with specific columns and headers that are defined at the\n",
        "# Bright Data website\n",
        "files = {\"data\": (\"data.csv\", open(\"the csv file\", \"rb\"), \"text/csv\")}\n",
        "\n",
        "response = requests.post(url, headers=headers, params=params, files=files)\n",
        "print(response.json())"
      ],
      "metadata": {
        "id": "qCrVMJ4cdQzR"
      },
      "execution_count": null,
      "outputs": []
    },
    {
      "cell_type": "code",
      "source": [
        "# Chech the status of the request if it is still running, ready etc\n",
        "\n",
        "#Use the shapshot_id that produces the previous cell. Put it after the last slash\n",
        "url = \"https://api.brightdata.com/datasets/v3/progress/'snapshot_id'\"\n",
        "headers = {\n",
        "\t\"Authorization\": \"Bearer API-token\",\n",
        "}\n",
        "\n",
        "response = requests.get(url, headers=headers)\n",
        "print(response.json())"
      ],
      "metadata": {
        "id": "P0knflLlfF0c"
      },
      "execution_count": null,
      "outputs": []
    },
    {
      "cell_type": "code",
      "source": [
        "# After the status is ready, download the results and save them in a CSV file\n",
        "\n",
        "url = \"https://api.brightdata.com/datasets/v3/snapshot/'snapshot_id'\"\n",
        "headers = {\n",
        "\t\"Authorization\": \"Bearer API-token\",\n",
        "}\n",
        "params = {\n",
        "\t\"format\": \"json\",\n",
        "}\n",
        "\n",
        "response = requests.get(url, headers=headers, params=params)\n",
        "data = response.json()\n",
        "\n",
        "# Convert to DataFrame and save to CSV\n",
        "df = pd.DataFrame(data)\n",
        "df.to_csv(\"CSV file title of the output\", index=False, encoding='utf-8-sig')"
      ],
      "metadata": {
        "id": "UVdgAC3OhjFt"
      },
      "execution_count": null,
      "outputs": []
    }
  ]
}